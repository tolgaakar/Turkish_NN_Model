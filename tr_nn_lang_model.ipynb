{
 "cells": [
  {
   "cell_type": "markdown",
   "metadata": {},
   "source": [
    "# Neural Network Language Model and Sentiment Classifier For Turkish Using ULMFit"
   ]
  },
  {
   "cell_type": "markdown",
   "metadata": {},
   "source": [
    "### Summary of the Project\n",
    "\n",
    "The goal of this project was to build a neural network language model for Turkish, and, using the ULMfit approach, use that model to build a second model for Turkish sentiment classification. In order to achieve my goals, I followed the footsteps of Jeremy Howard and his video on NLP applications for Non-English languages.\n",
    "\n",
    "In the first part, using the Sentence Piece Tokenizer (SPProcessor() in fast.ai\n",
    "library) since it is a better fit for Turkish, unlike space based tokenization techniques, I trained a RNN language model for Turkish.\n",
    "\n",
    "And for the second part, firstly I fine-tuned the model with the new data. Although both Jeremy Howard and the state-of-the-art (Gezici and Yanıkoğlu, 2018) are using only the Turkish movie reviews data, I used another dataset as well, which is product reviews in 4 categories namely books, DVDs, electronics and kitchen. Here I achieved <b>88.5%</b> accuracy, which over performs the state-of- the-art by far."
   ]
  },
  {
   "cell_type": "code",
   "execution_count": 1,
   "metadata": {},
   "outputs": [],
   "source": [
    "%reload_ext autoreload\n",
    "%autoreload 2\n",
    "%matplotlib inline"
   ]
  },
  {
   "cell_type": "code",
   "execution_count": null,
   "metadata": {},
   "outputs": [],
   "source": [
    "# It is advised to use fast.ai 1.0.57 relase due to some issues with SPProcessor\n",
    "# !pip install fastai==1.0.57"
   ]
  },
  {
   "cell_type": "code",
   "execution_count": 2,
   "metadata": {},
   "outputs": [],
   "source": [
    "from fastai import *\n",
    "from fastai.text import *"
   ]
  },
  {
   "cell_type": "code",
   "execution_count": 3,
   "metadata": {},
   "outputs": [],
   "source": [
    "data_path = Config.data_path()\n",
    "\n",
    "lang = 'tr'\n",
    "name = f'{lang}wiki'\n",
    "path = data_path/name\n",
    "path.mkdir(exist_ok=True, parents=True)\n",
    "\n",
    "\n",
    "mdl_path = path/'models'\n",
    "mdl_path.mkdir(exist_ok=True)\n",
    "lm_fns = [mdl_path/f'{lang}_wt', mdl_path/f'{lang}_wt_vocab']"
   ]
  },
  {
   "cell_type": "code",
   "execution_count": 4,
   "metadata": {},
   "outputs": [
    {
     "data": {
      "text/plain": [
       "PosixPath('/home/ubuntu/.fastai/data/trwiki')"
      ]
     },
     "execution_count": 4,
     "metadata": {},
     "output_type": "execute_result"
    }
   ],
   "source": [
    "path"
   ]
  },
  {
   "cell_type": "markdown",
   "metadata": {},
   "source": [
    "## Get Turkish Wikipedia"
   ]
  },
  {
   "cell_type": "code",
   "execution_count": 5,
   "metadata": {},
   "outputs": [],
   "source": [
    "# NLP Utils for working Wikipedia corpus\n",
    "# Source: https://github.com/fastai/course-nlp/blob/master/nlputils.py\n",
    "\n",
    "from fastai.basics import *\n",
    "import re\n",
    "\n",
    "\n",
    "def get_wiki(path,lang):\n",
    "    name = f'{lang}wiki'\n",
    "    if (path/name).exists():\n",
    "        print(f\"{path/name} already exists; not downloading\")\n",
    "        return\n",
    "\n",
    "    xml_fn = f\"{lang}wiki-latest-pages-articles.xml\"\n",
    "    zip_fn = f\"{xml_fn}.bz2\"\n",
    "\n",
    "    if not (path/xml_fn).exists():\n",
    "        print(\"downloading...\")\n",
    "        download_url(f'https://dumps.wikimedia.org/{name}/latest/{zip_fn}', path/zip_fn)\n",
    "        print(\"unzipping...\")\n",
    "        bunzip(path/zip_fn)\n",
    "\n",
    "    with working_directory(path):\n",
    "        if not (path/'wikiextractor').exists(): os.system('git clone https://github.com/attardi/wikiextractor.git')\n",
    "        print(\"extracting...\")\n",
    "        os.system(\"python wikiextractor/WikiExtractor.py --processes 4 --no_templates \" +\n",
    "            f\"--min_text_length 1800 --filter_disambig_pages --log_file log -b 100G -q {xml_fn}\")\n",
    "    shutil.move(str(path/'text/AA/wiki_00'), str(path/name))\n",
    "    shutil.rmtree(path/'text')\n",
    "\n",
    "\n",
    "def split_wiki(path,lang):\n",
    "    dest = path/'docs'\n",
    "    name = f'{lang}wiki'\n",
    "    if dest.exists():\n",
    "        print(f\"{dest} already exists; not splitting\")\n",
    "        return dest\n",
    "\n",
    "    dest.mkdir(exist_ok=True, parents=True)\n",
    "    title_re = re.compile(rf'<doc id=\"\\d+\" url=\"https://{lang}.wikipedia.org/wiki\\?curid=\\d+\" title=\"([^\"]+)\">')\n",
    "    lines = (path/name).open()\n",
    "    f=None\n",
    "\n",
    "    for i,l in enumerate(lines):\n",
    "        if i%100000 == 0: print(i)\n",
    "        if l.startswith('<doc id=\"'):\n",
    "            title = title_re.findall(l)[0].replace('/','_')\n",
    "            if len(title)>150: continue\n",
    "            if f: f.close()\n",
    "            f = (dest/f'{title}.txt').open('w')\n",
    "        else: f.write(l)\n",
    "    f.close()\n",
    "    return dest"
   ]
  },
  {
   "cell_type": "code",
   "execution_count": 15,
   "metadata": {},
   "outputs": [
    {
     "name": "stdout",
     "output_type": "stream",
     "text": [
      "unzipping...\n",
      "extracting...\n",
      "<doc id=\"10\" url=\"https://tr.wikipedia.org/wiki?curid=10\" title=\"Cengiz Han\">\n",
      "Cengiz Han\n",
      "\n",
      "Cengiz Han (\"Cenghis Khan\", \"Çinggis Haan\" ya da doğum adıyla Temuçin (anlamı: demirci), Moğolca: \"Чингис Хаан\" ya da \"Tengiz\" (anlamı: deniz), ; d. 1162 – ö. 18 Ağustos 1227), Moğol komutan, hükümdar ve Moğol İmparatorluğu'nun kurucusudur. Cengiz Han, 13. Yüzyılın başında Orta Asya'daki tüm göçebe bozkır kavimlerini birleştirerek bir ulus haline getirdi ve o ulusu \"Moğol\" siyasi kimliği çatısı altında topladı. Dünya tarihinin en büyük askeri dehalarından biri olarak kabul edilen Cengiz Han, hükümdarlığı döneminde 1206-1227 arasında Kuzey Çin'deki Batı Xia ve Jin Hanedanı, Türkistan'daki Kara Hıtay, Maveraünnehir, Harezm, Horasan ve İran'daki Harzemşahlar ile Kafkasya'da Gürcüler, Deşt-i Kıpçak'taki Rus Knezlikleri ve Kıpçaklar ile İdil Bulgarları üzerine gerçekleştirilen seferler sonucunda Pasifik Okyanusu'ndan Hazar Denizi’ne ve Karadeniz'in kuzeyine kadar uzanan bir imparatorluk kurdu.\n"
     ]
    }
   ],
   "source": [
    "get_wiki(path,lang)\n",
    "!head -n4 {path}/{name}"
   ]
  },
  {
   "cell_type": "code",
   "execution_count": 6,
   "metadata": {},
   "outputs": [
    {
     "name": "stdout",
     "output_type": "stream",
     "text": [
      "/home/ubuntu/.fastai/data/trwiki/docs already exists; not splitting\n"
     ]
    }
   ],
   "source": [
    "dest = split_wiki(path,lang)"
   ]
  },
  {
   "cell_type": "markdown",
   "metadata": {},
   "source": [
    "## Turkish Language Model"
   ]
  },
  {
   "cell_type": "code",
   "execution_count": 30,
   "metadata": {},
   "outputs": [
    {
     "data": {
      "text/plain": [
       "(30000, 45594)"
      ]
     },
     "execution_count": 30,
     "metadata": {},
     "output_type": "execute_result"
    }
   ],
   "source": [
    "# !pip install sentencepiece\n",
    "bs = 32\n",
    "data = (TextList.from_folder(dest, processor=[OpenFileProcessor(), SPProcessor()])\n",
    "        .split_by_rand_pct(0.1, seed=22)\n",
    "        .label_for_lm()\n",
    "        .databunch(bs=bs, num_workers=1))\n",
    "\n",
    "data.save(f'{lang}_databunch')\n",
    "len(data.vocab.itos),len(data.train_ds)"
   ]
  },
  {
   "cell_type": "markdown",
   "metadata": {},
   "source": [
    "30000 words in the vocabulary"
   ]
  },
  {
   "cell_type": "code",
   "execution_count": 8,
   "metadata": {},
   "outputs": [
    {
     "data": {
      "text/html": [
       "<table border=\"1\" class=\"dataframe\">\n",
       "  <thead>\n",
       "    <tr style=\"text-align: right;\">\n",
       "      <th>idx</th>\n",
       "      <th>text</th>\n",
       "    </tr>\n",
       "  </thead>\n",
       "  <tbody>\n",
       "    <tr>\n",
       "      <td>0</td>\n",
       "      <td>▁xxmaj ▁lig ▁b ▁xxmaj ▁kategorisi ▁takımlarından ▁xxmaj ▁erzurum spor ▁ile ▁ilk ▁profesyonel ▁sözleşmesini ▁imzalamıştır . ▁xxmaj ▁bir ▁sezon ▁xxmaj ▁erzurum spor ' da ▁forma ▁giydi kten ▁sonra , ▁futbola ▁başladığı ▁takım ▁olan ▁xxmaj ▁trabzonspor ' a ▁geri ▁dönmüş ; ▁oradan ▁da ▁2. ▁xxmaj ▁lig ▁ a ▁xxmaj ▁kategorisi ▁ekibi ▁xxmaj ▁kocaelispor ' a ▁kiralanmıştır . ▁xxmaj ▁fakat , ▁burada ▁da ▁kalıcı ▁ol amamış ▁ve ▁devre ▁arasında ▁kira ▁sözleşmesi ▁feshedil miştir</td>\n",
       "    </tr>\n",
       "    <tr>\n",
       "      <td>1</td>\n",
       "      <td>oryantal ist ▁xxmaj ▁william ▁xxmaj ▁jones ▁tarafından ▁işlenmiştir . ▁xxmaj ▁daha ▁sonra ▁xxmaj ▁hint ▁– ▁xxmaj ▁germen ▁xxmaj ▁dilleri ’ nin ▁çerçevesi ni ▁xxmaj ▁slav ca , ▁xxmaj ▁litvanya ca , ▁xxmaj ▁ arnavutça ▁ve ▁xxmaj ▁ermenice ▁ile ▁genişlet miştir . ▁xxmaj ▁bavyera ▁xxmaj ▁kralı ▁xxup ▁i . ▁xxmaj ▁maximilian ▁tarafından ▁xxmaj ▁londra ’ ya ▁gönderilmiştir . ▁xxmaj ▁burada , ▁öğrencilerine ▁xxmaj ▁sanskritçe ▁öğret en ▁dönemin ▁xxmaj ▁prusya ▁elçisi ▁xxmaj</td>\n",
       "    </tr>\n",
       "    <tr>\n",
       "      <td>2</td>\n",
       "      <td>kon \" ▁sözcüğü ne ▁bağlı ▁olduğu ▁iddia ▁edilir . ▁xxmaj ▁mitoloji de ▁bu ▁konuda ▁değişik ▁rivayetler ▁bulunmaktadır . ▁xxmaj ▁bu ▁hikâyeler den ▁birinde ▁anlatıldığı ▁üzere , ▁kente ▁da dan an ▁ejderha yı ▁öldüren ▁kişiye ▁şükran ▁ifadesi ▁olarak ▁bir ▁anıt ▁yapılır ▁ve ▁üzerine ▁de ▁olayı ▁anlatan ▁bir ▁resim ▁çizil ir . ▁xxmaj ▁bu ▁anıt a ▁verilen ▁isim , ▁\" i ̇ kon ion \" ▁ dur . ▁xxmaj ▁i ̇ kon</td>\n",
       "    </tr>\n",
       "    <tr>\n",
       "      <td>3</td>\n",
       "      <td>den ▁xxmaj ▁indiana polis ▁xxmaj ▁motor ▁xxmaj ▁ spe ed way ▁pisti nin ▁13. ▁viraj ına ▁bir ▁şi kan ▁yapılmasını ▁istedi . ▁xxmaj ▁whit ing ▁ise ▁öneri yi ▁pist in ▁bu ▁haliyle ▁yarış a ▁kat ılabilecek ▁ekip lere ▁haksızlık ▁olacağı ▁gerekçesiyle ▁geri ▁çevirdi . ▁14 ▁xxmaj ▁mart ▁2019 ▁sabahı ▁xxmaj ▁melbourne ' da , ▁ilk ▁pratik ▁günü ▁olan ▁xxmaj ▁av us tur al ya ▁xxmaj ▁grand ▁xxmaj ▁prix ' i</td>\n",
       "    </tr>\n",
       "    <tr>\n",
       "      <td>4</td>\n",
       "      <td>▁işlerinde ▁aksa malar ▁görüldü . ▁xxmaj ▁koca ▁xxmaj ▁derviş ▁xxmaj ▁mehmed ▁xxmaj ▁paşa ▁devamlı ▁olarak ▁devletin ▁mali ▁sorunlarını ▁ele ▁almak ▁zorunda ▁idi . ▁xxmaj ▁devam ▁eden ▁xxmaj ▁girit ▁xxmaj ▁savaşı ▁için ▁büyük ▁harcamaları ▁karşı laması ▁gerek mekte ▁idi . ▁xxmaj ▁bunun ▁için ▁xxmaj ▁hazine ye ▁ek ▁gelir ▁sağlama ▁faaliyeti ne ▁geçti . ▁xxmaj ▁devlet ▁ rica line ▁çeşitli ▁vesile lerle ▁hediye , ▁ ca ize ▁ve ▁rüşvet ler ▁verilmekte ▁idi</td>\n",
       "    </tr>\n",
       "  </tbody>\n",
       "</table>"
      ],
      "text/plain": [
       "<IPython.core.display.HTML object>"
      ]
     },
     "metadata": {},
     "output_type": "display_data"
    }
   ],
   "source": [
    "bs = 128\n",
    "data = load_data(dest, f'{lang}_databunch', bs=bs)\n",
    "data.show_batch()"
   ]
  },
  {
   "cell_type": "code",
   "execution_count": 9,
   "metadata": {},
   "outputs": [],
   "source": [
    "# create the language model \n",
    "learn = language_model_learner(data, AWD_LSTM, drop_mult=0.1, wd=0.1, pretrained=False).to_fp16()"
   ]
  },
  {
   "cell_type": "code",
   "execution_count": 11,
   "metadata": {},
   "outputs": [
    {
     "data": {
      "text/html": [],
      "text/plain": [
       "<IPython.core.display.HTML object>"
      ]
     },
     "metadata": {},
     "output_type": "display_data"
    },
    {
     "name": "stdout",
     "output_type": "stream",
     "text": [
      "LR Finder is complete, type {learner_name}.recorder.plot() to see the graph.\n"
     ]
    }
   ],
   "source": [
    "# find an appropriate learning rate\n",
    "learn.lr_find()"
   ]
  },
  {
   "cell_type": "code",
   "execution_count": 12,
   "metadata": {},
   "outputs": [
    {
     "data": {
      "image/png": "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\n",
      "text/plain": [
       "<Figure size 432x288 with 1 Axes>"
      ]
     },
     "metadata": {},
     "output_type": "display_data"
    }
   ],
   "source": [
    "learn.recorder.plot()"
   ]
  },
  {
   "cell_type": "code",
   "execution_count": 13,
   "metadata": {},
   "outputs": [],
   "source": [
    "# select a learning rate between 1e-4 and 1e-3\n",
    "lr = 3e-3\n",
    "\n",
    "# Scale learning rate by batch size\n",
    "lr *= bs/48  "
   ]
  },
  {
   "cell_type": "code",
   "execution_count": 14,
   "metadata": {},
   "outputs": [
    {
     "data": {
      "text/html": [
       "<table border=\"1\" class=\"dataframe\">\n",
       "  <thead>\n",
       "    <tr style=\"text-align: left;\">\n",
       "      <th>epoch</th>\n",
       "      <th>train_loss</th>\n",
       "      <th>valid_loss</th>\n",
       "      <th>accuracy</th>\n",
       "      <th>time</th>\n",
       "    </tr>\n",
       "  </thead>\n",
       "  <tbody>\n",
       "    <tr>\n",
       "      <td>0</td>\n",
       "      <td>4.207170</td>\n",
       "      <td>4.394455</td>\n",
       "      <td>0.300475</td>\n",
       "      <td>2:56:57</td>\n",
       "    </tr>\n",
       "    <tr>\n",
       "      <td>1</td>\n",
       "      <td>3.892224</td>\n",
       "      <td>3.837633</td>\n",
       "      <td>0.353370</td>\n",
       "      <td>2:57:13</td>\n",
       "    </tr>\n",
       "  </tbody>\n",
       "</table>"
      ],
      "text/plain": [
       "<IPython.core.display.HTML object>"
      ]
     },
     "metadata": {},
     "output_type": "display_data"
    }
   ],
   "source": [
    "learn.unfreeze()\n",
    "learn.fit_one_cycle(2, lr, moms=(0.8,0.7))"
   ]
  },
  {
   "cell_type": "code",
   "execution_count": 15,
   "metadata": {},
   "outputs": [
    {
     "data": {
      "text/plain": [
       "PosixPath('/home/ubuntu/.fastai/data/trwiki/docs/models/tr_lang_model_stg1.pth')"
      ]
     },
     "execution_count": 15,
     "metadata": {},
     "output_type": "execute_result"
    }
   ],
   "source": [
    "learn.save(\"tr_lang_model_stg1\", return_path=True)"
   ]
  },
  {
   "cell_type": "code",
   "execution_count": 19,
   "metadata": {},
   "outputs": [
    {
     "data": {
      "text/html": [
       "<table border=\"1\" class=\"dataframe\">\n",
       "  <thead>\n",
       "    <tr style=\"text-align: left;\">\n",
       "      <th>epoch</th>\n",
       "      <th>train_loss</th>\n",
       "      <th>valid_loss</th>\n",
       "      <th>accuracy</th>\n",
       "      <th>time</th>\n",
       "    </tr>\n",
       "  </thead>\n",
       "  <tbody>\n",
       "    <tr>\n",
       "      <td>0</td>\n",
       "      <td>4.059896</td>\n",
       "      <td>4.278137</td>\n",
       "      <td>0.310426</td>\n",
       "      <td>2:59:21</td>\n",
       "    </tr>\n",
       "    <tr>\n",
       "      <td>1</td>\n",
       "      <td>3.798663</td>\n",
       "      <td>3.742585</td>\n",
       "      <td>0.362483</td>\n",
       "      <td>2:57:35</td>\n",
       "    </tr>\n",
       "  </tbody>\n",
       "</table>"
      ],
      "text/plain": [
       "<IPython.core.display.HTML object>"
      ]
     },
     "metadata": {},
     "output_type": "display_data"
    },
    {
     "name": "stderr",
     "output_type": "stream",
     "text": [
      "IOPub message rate exceeded.\n",
      "The notebook server will temporarily stop sending output\n",
      "to the client in order to avoid crashing it.\n",
      "To change this limit, set the config variable\n",
      "`--NotebookApp.iopub_msg_rate_limit`.\n",
      "\n",
      "Current values:\n",
      "NotebookApp.iopub_msg_rate_limit=1000.0 (msgs/sec)\n",
      "NotebookApp.rate_limit_window=3.0 (secs)\n",
      "\n"
     ]
    }
   ],
   "source": [
    "learn.fit_one_cycle(2, lr, moms=(0.8,0.7))"
   ]
  },
  {
   "cell_type": "code",
   "execution_count": 20,
   "metadata": {},
   "outputs": [
    {
     "data": {
      "text/plain": [
       "PosixPath('/home/ubuntu/.fastai/data/trwiki/docs/models/tr_lang_model_stg3.pth')"
      ]
     },
     "execution_count": 20,
     "metadata": {},
     "output_type": "execute_result"
    }
   ],
   "source": [
    "learn.save(\"tr_lang_model_stg2\", return_path=True)"
   ]
  },
  {
   "cell_type": "markdown",
   "metadata": {},
   "source": [
    "Model 2 is chosen since it has higher accuracy, <b>36%</b> (where Jeremy achieved 38%), and lower loss"
   ]
  },
  {
   "cell_type": "code",
   "execution_count": 10,
   "metadata": {},
   "outputs": [],
   "source": [
    "learn = learn.load(\"tr_lang_model_stg2\")"
   ]
  },
  {
   "cell_type": "code",
   "execution_count": 16,
   "metadata": {},
   "outputs": [],
   "source": [
    "test_text = \"Dil insanlar arasında anlaşmayı sağlayan tabii bir araçtır; dil kendi kanunları içerisinde yaşayan ve gelişen canlı bir varlıktır.\""
   ]
  },
  {
   "cell_type": "code",
   "execution_count": 14,
   "metadata": {},
   "outputs": [
    {
     "data": {
      "text/plain": [
       "'Dil insanlar arasında anlaşmayı sağlayan tabii bir araçtır; dil kendi kanunları içerisinde yaşayan ve gelişen canlı bir varlıktır. ▁xxmaj ▁bu ▁evrendeki ▁fiiller i ▁tek ▁bir ▁dille ▁içerir ▁ve'"
      ]
     },
     "execution_count": 14,
     "metadata": {},
     "output_type": "execute_result"
    }
   ],
   "source": [
    "learn.predict(test_text, n_words=10, decoder=decode_spec_tokens)"
   ]
  },
  {
   "cell_type": "markdown",
   "metadata": {},
   "source": [
    "I tried to detokenize the predictions but could not figure out a way to apply it to Turkish with sentence piece tokenizer. In order you to understand better, I will translate the input and the prediction. \n",
    "#### Input: \"Language is a natural tool that enables communication between people; language is an alive being that lives within its rules and evolve.\"\n",
    "\n",
    "#### Prediction: \"It includes the verbs in this universe with a single language and\"\n"
   ]
  },
  {
   "cell_type": "code",
   "execution_count": 19,
   "metadata": {},
   "outputs": [],
   "source": [
    "test_text2 = \"Son derece engin bir kültüre sahip olan Babür, okumaya karşı büyük bir ilgi duymaktaydı. Kendisini unutarak bütün gününü kütüphanelerde geçirebilirdi\""
   ]
  },
  {
   "cell_type": "code",
   "execution_count": 20,
   "metadata": {},
   "outputs": [
    {
     "data": {
      "text/plain": [
       "'Son derece engin bir kültüre sahip olan Babür, okumaya karşı büyük bir ilgi duymaktaydı. Kendisini unutarak bütün gününü kütüphanelerde geçirebilirdi . ▁xxmaj ▁dili ▁ve ▁dili ▁konusunda ▁kararsız ▁olan ▁bir ▁kişi ▁olan ▁xxmaj ▁pug an ▁xxmaj'"
      ]
     },
     "execution_count": 20,
     "metadata": {},
     "output_type": "execute_result"
    }
   ],
   "source": [
    "learn.predict(test_text2, n_words=15, decoder=decode_spec_tokens)"
   ]
  },
  {
   "cell_type": "markdown",
   "metadata": {},
   "source": [
    "#### Input: \"Babur, who is a man of immerse culture, was highly interested in reading. He could have spent a whole day in libraries\"\n",
    "\n",
    "#### Prediction: \". As a person who is unsure about their language and language, Pugan(? ) \"\n",
    "You can see that even the input text does not have a period at the end, model was successfully able to put a period at the end of the input sentence \n",
    "\n",
    "PS: There is not a word such as Pugan (or Pug an) in Turkish, it could be a proper noun since it is capitalized (xxmaj token means that the next token starts with a capital letter). Or it could be completely made up. "
   ]
  },
  {
   "cell_type": "code",
   "execution_count": 22,
   "metadata": {},
   "outputs": [],
   "source": [
    "# export the language model for possible later use\n",
    "learn.export(\"tr_language_model_exported.pkl\")"
   ]
  },
  {
   "cell_type": "code",
   "execution_count": 23,
   "metadata": {},
   "outputs": [
    {
     "data": {
      "text/plain": [
       "PosixPath('/home/ubuntu/.fastai/data/trwiki/docs')"
      ]
     },
     "execution_count": 23,
     "metadata": {},
     "output_type": "execute_result"
    }
   ],
   "source": [
    "learn.path"
   ]
  },
  {
   "cell_type": "code",
   "execution_count": 21,
   "metadata": {},
   "outputs": [],
   "source": [
    "# save the language model and the vocabulary\n",
    "\n",
    "learn.to_fp32().save(lm_fns[0], with_opt=False)\n",
    "learn.data.vocab.save(lm_fns[1].with_suffix('.pkl'))"
   ]
  },
  {
   "cell_type": "markdown",
   "metadata": {},
   "source": [
    "## Sentiment Analysis"
   ]
  },
  {
   "cell_type": "markdown",
   "metadata": {},
   "source": [
    "In his lecture, Jeremy uses the movie reviews database. I will use both movie reviews and product reviews in different categories to train the sentiment classifier. \n",
    "\n",
    "Link to datasets: https://www.win.tue.nl/~mpechen/projects/smm/"
   ]
  },
  {
   "cell_type": "code",
   "execution_count": 7,
   "metadata": {},
   "outputs": [
    {
     "data": {
      "text/plain": [
       "[PosixPath('Reviews/electronics_negative'),\n",
       " PosixPath('Reviews/tr_clas_databunch'),\n",
       " PosixPath('Reviews/dvd_negative'),\n",
       " PosixPath('Reviews/kitchen_negative'),\n",
       " PosixPath('Reviews/books_negative'),\n",
       " PosixPath('Reviews/dvd_positive'),\n",
       " PosixPath('Reviews/tr_polarity.pos'),\n",
       " PosixPath('Reviews/kitchen_positive'),\n",
       " PosixPath('Reviews/tr_polarity.neg'),\n",
       " PosixPath('Reviews/electronics_positive'),\n",
       " PosixPath('Reviews/books_positive'),\n",
       " PosixPath('Reviews/models')]"
      ]
     },
     "execution_count": 7,
     "metadata": {},
     "output_type": "execute_result"
    }
   ],
   "source": [
    "reviews_path = Path(\"Reviews\")\n",
    "reviews_path.ls()"
   ]
  },
  {
   "cell_type": "code",
   "execution_count": 8,
   "metadata": {},
   "outputs": [
    {
     "data": {
      "text/html": [
       "<div>\n",
       "<style scoped>\n",
       "    .dataframe tbody tr th:only-of-type {\n",
       "        vertical-align: middle;\n",
       "    }\n",
       "\n",
       "    .dataframe tbody tr th {\n",
       "        vertical-align: top;\n",
       "    }\n",
       "\n",
       "    .dataframe thead th {\n",
       "        text-align: right;\n",
       "    }\n",
       "</style>\n",
       "<table border=\"1\" class=\"dataframe\">\n",
       "  <thead>\n",
       "    <tr style=\"text-align: right;\">\n",
       "      <th></th>\n",
       "      <th>text</th>\n",
       "      <th>pos</th>\n",
       "    </tr>\n",
       "  </thead>\n",
       "  <tbody>\n",
       "    <tr>\n",
       "      <td>0</td>\n",
       "      <td>gerçekten harika bir yapim birçok kez izledim ...</td>\n",
       "      <td>1</td>\n",
       "    </tr>\n",
       "    <tr>\n",
       "      <td>1</td>\n",
       "      <td>her izledigimde hayranlik duydugum gerçek klas...</td>\n",
       "      <td>1</td>\n",
       "    </tr>\n",
       "    <tr>\n",
       "      <td>2</td>\n",
       "      <td>gerçekten tarihi savas filmleri arasinda tarti...</td>\n",
       "      <td>1</td>\n",
       "    </tr>\n",
       "    <tr>\n",
       "      <td>3</td>\n",
       "      <td>aldigi ödülleri sonuna dek hak eden muhtesem b...</td>\n",
       "      <td>1</td>\n",
       "    </tr>\n",
       "    <tr>\n",
       "      <td>4</td>\n",
       "      <td>özgürlük denilince aklima gelen ilk film.bir b...</td>\n",
       "      <td>1</td>\n",
       "    </tr>\n",
       "  </tbody>\n",
       "</table>\n",
       "</div>"
      ],
      "text/plain": [
       "                                                text  pos\n",
       "0  gerçekten harika bir yapim birçok kez izledim ...    1\n",
       "1  her izledigimde hayranlik duydugum gerçek klas...    1\n",
       "2  gerçekten tarihi savas filmleri arasinda tarti...    1\n",
       "3  aldigi ödülleri sonuna dek hak eden muhtesem b...    1\n",
       "4  özgürlük denilince aklima gelen ilk film.bir b...    1"
      ]
     },
     "execution_count": 8,
     "metadata": {},
     "output_type": "execute_result"
    }
   ],
   "source": [
    "movie_pos = (reviews_path/'tr_polarity.pos').open(encoding='iso-8859-9').readlines()\n",
    "movie_pos_df = pd.DataFrame({'text':movie_pos})\n",
    "movie_pos_df['pos'] = 1\n",
    "movie_pos_df.head()"
   ]
  },
  {
   "cell_type": "code",
   "execution_count": 9,
   "metadata": {},
   "outputs": [
    {
     "data": {
      "text/html": [
       "<div>\n",
       "<style scoped>\n",
       "    .dataframe tbody tr th:only-of-type {\n",
       "        vertical-align: middle;\n",
       "    }\n",
       "\n",
       "    .dataframe tbody tr th {\n",
       "        vertical-align: top;\n",
       "    }\n",
       "\n",
       "    .dataframe thead th {\n",
       "        text-align: right;\n",
       "    }\n",
       "</style>\n",
       "<table border=\"1\" class=\"dataframe\">\n",
       "  <thead>\n",
       "    <tr style=\"text-align: right;\">\n",
       "      <th></th>\n",
       "      <th>text</th>\n",
       "      <th>pos</th>\n",
       "    </tr>\n",
       "  </thead>\n",
       "  <tbody>\n",
       "    <tr>\n",
       "      <td>0</td>\n",
       "      <td>giseye oynayan bir film.mel gibson'in oyunculu...</td>\n",
       "      <td>0</td>\n",
       "    </tr>\n",
       "    <tr>\n",
       "      <td>1</td>\n",
       "      <td>bircok yonden sahip olduklari zayifliklari pop...</td>\n",
       "      <td>0</td>\n",
       "    </tr>\n",
       "    <tr>\n",
       "      <td>2</td>\n",
       "      <td>1995 ten bu yana bu tür filmler artti , o zama...</td>\n",
       "      <td>0</td>\n",
       "    </tr>\n",
       "    <tr>\n",
       "      <td>3</td>\n",
       "      <td>mel gibson tam bir ingiliz düsmani her filmind...</td>\n",
       "      <td>0</td>\n",
       "    </tr>\n",
       "    <tr>\n",
       "      <td>4</td>\n",
       "      <td>milliyetçi bir film tavsiye etmiyorum.... \\n</td>\n",
       "      <td>0</td>\n",
       "    </tr>\n",
       "  </tbody>\n",
       "</table>\n",
       "</div>"
      ],
      "text/plain": [
       "                                                text  pos\n",
       "0  giseye oynayan bir film.mel gibson'in oyunculu...    0\n",
       "1  bircok yonden sahip olduklari zayifliklari pop...    0\n",
       "2  1995 ten bu yana bu tür filmler artti , o zama...    0\n",
       "3  mel gibson tam bir ingiliz düsmani her filmind...    0\n",
       "4       milliyetçi bir film tavsiye etmiyorum.... \\n    0"
      ]
     },
     "execution_count": 9,
     "metadata": {},
     "output_type": "execute_result"
    }
   ],
   "source": [
    "movie_neg = (reviews_path/'tr_polarity.neg').open(encoding='iso-8859-9').readlines()\n",
    "movie_neg_df = pd.DataFrame({'text':movie_neg})\n",
    "movie_neg_df['pos'] = 0\n",
    "movie_neg_df.head()"
   ]
  },
  {
   "cell_type": "code",
   "execution_count": 10,
   "metadata": {},
   "outputs": [
    {
     "data": {
      "text/html": [
       "<div>\n",
       "<style scoped>\n",
       "    .dataframe tbody tr th:only-of-type {\n",
       "        vertical-align: middle;\n",
       "    }\n",
       "\n",
       "    .dataframe tbody tr th {\n",
       "        vertical-align: top;\n",
       "    }\n",
       "\n",
       "    .dataframe thead th {\n",
       "        text-align: right;\n",
       "    }\n",
       "</style>\n",
       "<table border=\"1\" class=\"dataframe\">\n",
       "  <thead>\n",
       "    <tr style=\"text-align: right;\">\n",
       "      <th></th>\n",
       "      <th>text</th>\n",
       "      <th>pos</th>\n",
       "    </tr>\n",
       "  </thead>\n",
       "  <tbody>\n",
       "    <tr>\n",
       "      <td>0</td>\n",
       "      <td>okuyun, okuyun ve sona geldiğinizde şaşırıp ka...</td>\n",
       "      <td>1</td>\n",
       "    </tr>\n",
       "    <tr>\n",
       "      <td>1</td>\n",
       "      <td>ahmet ümit in okuduğum ilk romanı. karakter se...</td>\n",
       "      <td>1</td>\n",
       "    </tr>\n",
       "    <tr>\n",
       "      <td>2</td>\n",
       "      <td>bence ahmet ümitin en iyi romanı. diğer yazdık...</td>\n",
       "      <td>1</td>\n",
       "    </tr>\n",
       "    <tr>\n",
       "      <td>3</td>\n",
       "      <td>ahmet ümiti bu kitapla tanıdım ve okuduğum tüm...</td>\n",
       "      <td>1</td>\n",
       "    </tr>\n",
       "    <tr>\n",
       "      <td>4</td>\n",
       "      <td>ahmet ümitten yine merak ve şüphe dolu bir ser...</td>\n",
       "      <td>1</td>\n",
       "    </tr>\n",
       "  </tbody>\n",
       "</table>\n",
       "</div>"
      ],
      "text/plain": [
       "                                                text  pos\n",
       "0  okuyun, okuyun ve sona geldiğinizde şaşırıp ka...    1\n",
       "1  ahmet ümit in okuduğum ilk romanı. karakter se...    1\n",
       "2  bence ahmet ümitin en iyi romanı. diğer yazdık...    1\n",
       "3  ahmet ümiti bu kitapla tanıdım ve okuduğum tüm...    1\n",
       "4  ahmet ümitten yine merak ve şüphe dolu bir ser...    1"
      ]
     },
     "execution_count": 10,
     "metadata": {},
     "output_type": "execute_result"
    }
   ],
   "source": [
    "books_pos = (reviews_path/'books_positive').open(encoding='utf-8').readlines()\n",
    "books_pos_df = pd.DataFrame({'text':books_pos})\n",
    "books_pos_df['pos'] = 1\n",
    "books_pos_df.head()"
   ]
  },
  {
   "cell_type": "code",
   "execution_count": 11,
   "metadata": {},
   "outputs": [
    {
     "data": {
      "text/html": [
       "<div>\n",
       "<style scoped>\n",
       "    .dataframe tbody tr th:only-of-type {\n",
       "        vertical-align: middle;\n",
       "    }\n",
       "\n",
       "    .dataframe tbody tr th {\n",
       "        vertical-align: top;\n",
       "    }\n",
       "\n",
       "    .dataframe thead th {\n",
       "        text-align: right;\n",
       "    }\n",
       "</style>\n",
       "<table border=\"1\" class=\"dataframe\">\n",
       "  <thead>\n",
       "    <tr style=\"text-align: right;\">\n",
       "      <th></th>\n",
       "      <th>text</th>\n",
       "      <th>pos</th>\n",
       "    </tr>\n",
       "  </thead>\n",
       "  <tbody>\n",
       "    <tr>\n",
       "      <td>0</td>\n",
       "      <td>kitap okumayı seviyorum. ahmet ümitin pek çok ...</td>\n",
       "      <td>0</td>\n",
       "    </tr>\n",
       "    <tr>\n",
       "      <td>1</td>\n",
       "      <td>beklenmedik bir sonla biten gayet güzel bir ki...</td>\n",
       "      <td>0</td>\n",
       "    </tr>\n",
       "    <tr>\n",
       "      <td>2</td>\n",
       "      <td>ahmet ümitin ilk okuduğum kitabı bu . polisiye...</td>\n",
       "      <td>0</td>\n",
       "    </tr>\n",
       "    <tr>\n",
       "      <td>3</td>\n",
       "      <td>eğer sıkılmadan kitap okumak istiyorum diyorsa...</td>\n",
       "      <td>0</td>\n",
       "    </tr>\n",
       "    <tr>\n",
       "      <td>4</td>\n",
       "      <td>ahmet ümitin 3 kitabını okudum. beyoğlu rapsod...</td>\n",
       "      <td>0</td>\n",
       "    </tr>\n",
       "  </tbody>\n",
       "</table>\n",
       "</div>"
      ],
      "text/plain": [
       "                                                text  pos\n",
       "0  kitap okumayı seviyorum. ahmet ümitin pek çok ...    0\n",
       "1  beklenmedik bir sonla biten gayet güzel bir ki...    0\n",
       "2  ahmet ümitin ilk okuduğum kitabı bu . polisiye...    0\n",
       "3  eğer sıkılmadan kitap okumak istiyorum diyorsa...    0\n",
       "4  ahmet ümitin 3 kitabını okudum. beyoğlu rapsod...    0"
      ]
     },
     "execution_count": 11,
     "metadata": {},
     "output_type": "execute_result"
    }
   ],
   "source": [
    "books_neg = (reviews_path/'books_negative').open(encoding='utf-8').readlines()\n",
    "books_neg_df = pd.DataFrame({'text':books_neg})\n",
    "books_neg_df['pos'] = 0\n",
    "books_neg_df.head()"
   ]
  },
  {
   "cell_type": "code",
   "execution_count": 12,
   "metadata": {},
   "outputs": [
    {
     "data": {
      "text/html": [
       "<div>\n",
       "<style scoped>\n",
       "    .dataframe tbody tr th:only-of-type {\n",
       "        vertical-align: middle;\n",
       "    }\n",
       "\n",
       "    .dataframe tbody tr th {\n",
       "        vertical-align: top;\n",
       "    }\n",
       "\n",
       "    .dataframe thead th {\n",
       "        text-align: right;\n",
       "    }\n",
       "</style>\n",
       "<table border=\"1\" class=\"dataframe\">\n",
       "  <thead>\n",
       "    <tr style=\"text-align: right;\">\n",
       "      <th></th>\n",
       "      <th>text</th>\n",
       "      <th>pos</th>\n",
       "    </tr>\n",
       "  </thead>\n",
       "  <tbody>\n",
       "    <tr>\n",
       "      <td>0</td>\n",
       "      <td>bu parayla aynı filmi kiralayamazsınız bile ! ...</td>\n",
       "      <td>1</td>\n",
       "    </tr>\n",
       "    <tr>\n",
       "      <td>1</td>\n",
       "      <td>harrison ford ilk kez tanıdığım film... gerçek...</td>\n",
       "      <td>1</td>\n",
       "    </tr>\n",
       "    <tr>\n",
       "      <td>2</td>\n",
       "      <td>durumunuz uygunsa ve hayranıysanız bulundurman...</td>\n",
       "      <td>1</td>\n",
       "    </tr>\n",
       "    <tr>\n",
       "      <td>3</td>\n",
       "      <td>muhteşem görüntüleri, müthş senaryoları olan i...</td>\n",
       "      <td>1</td>\n",
       "    </tr>\n",
       "    <tr>\n",
       "      <td>4</td>\n",
       "      <td>bu dört dvd harika bir kolleksiyon. nefis bir ...</td>\n",
       "      <td>1</td>\n",
       "    </tr>\n",
       "  </tbody>\n",
       "</table>\n",
       "</div>"
      ],
      "text/plain": [
       "                                                text  pos\n",
       "0  bu parayla aynı filmi kiralayamazsınız bile ! ...    1\n",
       "1  harrison ford ilk kez tanıdığım film... gerçek...    1\n",
       "2  durumunuz uygunsa ve hayranıysanız bulundurman...    1\n",
       "3  muhteşem görüntüleri, müthş senaryoları olan i...    1\n",
       "4  bu dört dvd harika bir kolleksiyon. nefis bir ...    1"
      ]
     },
     "execution_count": 12,
     "metadata": {},
     "output_type": "execute_result"
    }
   ],
   "source": [
    "dvd_pos = (reviews_path/'dvd_positive').open(encoding='utf-8').readlines()\n",
    "dvd_pos_df = pd.DataFrame({'text':dvd_pos})\n",
    "dvd_pos_df['pos'] = 1\n",
    "dvd_pos_df.head()"
   ]
  },
  {
   "cell_type": "code",
   "execution_count": 13,
   "metadata": {},
   "outputs": [
    {
     "data": {
      "text/html": [
       "<div>\n",
       "<style scoped>\n",
       "    .dataframe tbody tr th:only-of-type {\n",
       "        vertical-align: middle;\n",
       "    }\n",
       "\n",
       "    .dataframe tbody tr th {\n",
       "        vertical-align: top;\n",
       "    }\n",
       "\n",
       "    .dataframe thead th {\n",
       "        text-align: right;\n",
       "    }\n",
       "</style>\n",
       "<table border=\"1\" class=\"dataframe\">\n",
       "  <thead>\n",
       "    <tr style=\"text-align: right;\">\n",
       "      <th></th>\n",
       "      <th>text</th>\n",
       "      <th>pos</th>\n",
       "    </tr>\n",
       "  </thead>\n",
       "  <tbody>\n",
       "    <tr>\n",
       "      <td>0</td>\n",
       "      <td>türkçe dublaj olması ve bu fiyata satışta olma...</td>\n",
       "      <td>0</td>\n",
       "    </tr>\n",
       "    <tr>\n",
       "      <td>1</td>\n",
       "      <td>film çok fazla ilgi gösterilmeyip çok izleyeni...</td>\n",
       "      <td>0</td>\n",
       "    </tr>\n",
       "    <tr>\n",
       "      <td>2</td>\n",
       "      <td>filmi oyuncuları bile kurtaramamış. izlemek iç...</td>\n",
       "      <td>0</td>\n",
       "    </tr>\n",
       "    <tr>\n",
       "      <td>3</td>\n",
       "      <td>bob rafelsonın yönettiği samuel jackson ve mil...</td>\n",
       "      <td>0</td>\n",
       "    </tr>\n",
       "    <tr>\n",
       "      <td>4</td>\n",
       "      <td>kapak üzerindeki oyunculara ve filmin ismine b...</td>\n",
       "      <td>0</td>\n",
       "    </tr>\n",
       "  </tbody>\n",
       "</table>\n",
       "</div>"
      ],
      "text/plain": [
       "                                                text  pos\n",
       "0  türkçe dublaj olması ve bu fiyata satışta olma...    0\n",
       "1  film çok fazla ilgi gösterilmeyip çok izleyeni...    0\n",
       "2  filmi oyuncuları bile kurtaramamış. izlemek iç...    0\n",
       "3  bob rafelsonın yönettiği samuel jackson ve mil...    0\n",
       "4  kapak üzerindeki oyunculara ve filmin ismine b...    0"
      ]
     },
     "execution_count": 13,
     "metadata": {},
     "output_type": "execute_result"
    }
   ],
   "source": [
    "dvd_neg = (reviews_path/'dvd_negative').open(encoding='utf-8').readlines()\n",
    "dvd_neg_df = pd.DataFrame({'text':dvd_neg})\n",
    "dvd_neg_df['pos'] = 0\n",
    "dvd_neg_df.head()"
   ]
  },
  {
   "cell_type": "code",
   "execution_count": 14,
   "metadata": {},
   "outputs": [
    {
     "data": {
      "text/html": [
       "<div>\n",
       "<style scoped>\n",
       "    .dataframe tbody tr th:only-of-type {\n",
       "        vertical-align: middle;\n",
       "    }\n",
       "\n",
       "    .dataframe tbody tr th {\n",
       "        vertical-align: top;\n",
       "    }\n",
       "\n",
       "    .dataframe thead th {\n",
       "        text-align: right;\n",
       "    }\n",
       "</style>\n",
       "<table border=\"1\" class=\"dataframe\">\n",
       "  <thead>\n",
       "    <tr style=\"text-align: right;\">\n",
       "      <th></th>\n",
       "      <th>text</th>\n",
       "      <th>pos</th>\n",
       "    </tr>\n",
       "  </thead>\n",
       "  <tbody>\n",
       "    <tr>\n",
       "      <td>0</td>\n",
       "      <td>gerçekten süper bişey ben çok beğendim hemen s...</td>\n",
       "      <td>1</td>\n",
       "    </tr>\n",
       "    <tr>\n",
       "      <td>1</td>\n",
       "      <td>ben internet cafe işletiyorum alacagım üründe ...</td>\n",
       "      <td>1</td>\n",
       "    </tr>\n",
       "    <tr>\n",
       "      <td>2</td>\n",
       "      <td>alışverişin geğişmez adı oldunuz ürünler kalit...</td>\n",
       "      <td>1</td>\n",
       "    </tr>\n",
       "    <tr>\n",
       "      <td>3</td>\n",
       "      <td>bu fiyata bu  piyasada bulunmaz bir ürün içi y...</td>\n",
       "      <td>1</td>\n",
       "    </tr>\n",
       "    <tr>\n",
       "      <td>4</td>\n",
       "      <td>snopynin daha önce direksiyon ve oyun kolların...</td>\n",
       "      <td>1</td>\n",
       "    </tr>\n",
       "  </tbody>\n",
       "</table>\n",
       "</div>"
      ],
      "text/plain": [
       "                                                text  pos\n",
       "0  gerçekten süper bişey ben çok beğendim hemen s...    1\n",
       "1  ben internet cafe işletiyorum alacagım üründe ...    1\n",
       "2  alışverişin geğişmez adı oldunuz ürünler kalit...    1\n",
       "3  bu fiyata bu  piyasada bulunmaz bir ürün içi y...    1\n",
       "4  snopynin daha önce direksiyon ve oyun kolların...    1"
      ]
     },
     "execution_count": 14,
     "metadata": {},
     "output_type": "execute_result"
    }
   ],
   "source": [
    "elc_pos = (reviews_path/'electronics_positive').open(encoding='utf-8').readlines()\n",
    "elc_pos_df = pd.DataFrame({'text':elc_pos})\n",
    "elc_pos_df['pos'] = 1\n",
    "elc_pos_df.head()"
   ]
  },
  {
   "cell_type": "code",
   "execution_count": 15,
   "metadata": {},
   "outputs": [
    {
     "data": {
      "text/html": [
       "<div>\n",
       "<style scoped>\n",
       "    .dataframe tbody tr th:only-of-type {\n",
       "        vertical-align: middle;\n",
       "    }\n",
       "\n",
       "    .dataframe tbody tr th {\n",
       "        vertical-align: top;\n",
       "    }\n",
       "\n",
       "    .dataframe thead th {\n",
       "        text-align: right;\n",
       "    }\n",
       "</style>\n",
       "<table border=\"1\" class=\"dataframe\">\n",
       "  <thead>\n",
       "    <tr style=\"text-align: right;\">\n",
       "      <th></th>\n",
       "      <th>text</th>\n",
       "      <th>pos</th>\n",
       "    </tr>\n",
       "  </thead>\n",
       "  <tbody>\n",
       "    <tr>\n",
       "      <td>0</td>\n",
       "      <td>cihazı alırken biraz tereddüt ettim zira herha...</td>\n",
       "      <td>0</td>\n",
       "    </tr>\n",
       "    <tr>\n",
       "      <td>1</td>\n",
       "      <td>sesi fazla çıkmıyor onun dışında kablosunun ip...</td>\n",
       "      <td>0</td>\n",
       "    </tr>\n",
       "    <tr>\n",
       "      <td>2</td>\n",
       "      <td>ürünü sipaariş ettim üç gün içinde elime ulaşt...</td>\n",
       "      <td>0</td>\n",
       "    </tr>\n",
       "    <tr>\n",
       "      <td>3</td>\n",
       "      <td>ürün ses bakımından çok güzeldi fakat 2 ay kad...</td>\n",
       "      <td>0</td>\n",
       "    </tr>\n",
       "    <tr>\n",
       "      <td>4</td>\n",
       "      <td>ürün güzel ses kaliteside çok yüksek sesten ho...</td>\n",
       "      <td>0</td>\n",
       "    </tr>\n",
       "  </tbody>\n",
       "</table>\n",
       "</div>"
      ],
      "text/plain": [
       "                                                text  pos\n",
       "0  cihazı alırken biraz tereddüt ettim zira herha...    0\n",
       "1  sesi fazla çıkmıyor onun dışında kablosunun ip...    0\n",
       "2  ürünü sipaariş ettim üç gün içinde elime ulaşt...    0\n",
       "3  ürün ses bakımından çok güzeldi fakat 2 ay kad...    0\n",
       "4  ürün güzel ses kaliteside çok yüksek sesten ho...    0"
      ]
     },
     "execution_count": 15,
     "metadata": {},
     "output_type": "execute_result"
    }
   ],
   "source": [
    "elc_neg = (reviews_path/'electronics_negative').open(encoding='utf-8').readlines()\n",
    "elc_neg_df = pd.DataFrame({'text':elc_neg})\n",
    "elc_neg_df['pos'] = 0\n",
    "elc_neg_df.head()"
   ]
  },
  {
   "cell_type": "code",
   "execution_count": 16,
   "metadata": {},
   "outputs": [
    {
     "data": {
      "text/html": [
       "<div>\n",
       "<style scoped>\n",
       "    .dataframe tbody tr th:only-of-type {\n",
       "        vertical-align: middle;\n",
       "    }\n",
       "\n",
       "    .dataframe tbody tr th {\n",
       "        vertical-align: top;\n",
       "    }\n",
       "\n",
       "    .dataframe thead th {\n",
       "        text-align: right;\n",
       "    }\n",
       "</style>\n",
       "<table border=\"1\" class=\"dataframe\">\n",
       "  <thead>\n",
       "    <tr style=\"text-align: right;\">\n",
       "      <th></th>\n",
       "      <th>text</th>\n",
       "      <th>pos</th>\n",
       "    </tr>\n",
       "  </thead>\n",
       "  <tbody>\n",
       "    <tr>\n",
       "      <td>0</td>\n",
       "      <td>ürünün tedarik edilme süreci biraz uzasa da be...</td>\n",
       "      <td>1</td>\n",
       "    </tr>\n",
       "    <tr>\n",
       "      <td>1</td>\n",
       "      <td>sipariş verdim bir saat sonra kargoya verildi ...</td>\n",
       "      <td>1</td>\n",
       "    </tr>\n",
       "    <tr>\n",
       "      <td>2</td>\n",
       "      <td>özellikle fırından çok memnun kaldım çok güzel...</td>\n",
       "      <td>1</td>\n",
       "    </tr>\n",
       "    <tr>\n",
       "      <td>3</td>\n",
       "      <td>ürün 2 günde elime ulaştı öncelikle teşekkür e...</td>\n",
       "      <td>1</td>\n",
       "    </tr>\n",
       "    <tr>\n",
       "      <td>4</td>\n",
       "      <td>ben bu ürünü silverline mağzasından aldım faka...</td>\n",
       "      <td>1</td>\n",
       "    </tr>\n",
       "  </tbody>\n",
       "</table>\n",
       "</div>"
      ],
      "text/plain": [
       "                                                text  pos\n",
       "0  ürünün tedarik edilme süreci biraz uzasa da be...    1\n",
       "1  sipariş verdim bir saat sonra kargoya verildi ...    1\n",
       "2  özellikle fırından çok memnun kaldım çok güzel...    1\n",
       "3  ürün 2 günde elime ulaştı öncelikle teşekkür e...    1\n",
       "4  ben bu ürünü silverline mağzasından aldım faka...    1"
      ]
     },
     "execution_count": 16,
     "metadata": {},
     "output_type": "execute_result"
    }
   ],
   "source": [
    "kitchen_pos = (reviews_path/'kitchen_positive').open(encoding='utf-8').readlines()\n",
    "kitchen_pos_df = pd.DataFrame({'text':kitchen_pos})\n",
    "kitchen_pos_df['pos'] = 1\n",
    "kitchen_pos_df.head()"
   ]
  },
  {
   "cell_type": "code",
   "execution_count": 17,
   "metadata": {},
   "outputs": [
    {
     "data": {
      "text/html": [
       "<div>\n",
       "<style scoped>\n",
       "    .dataframe tbody tr th:only-of-type {\n",
       "        vertical-align: middle;\n",
       "    }\n",
       "\n",
       "    .dataframe tbody tr th {\n",
       "        vertical-align: top;\n",
       "    }\n",
       "\n",
       "    .dataframe thead th {\n",
       "        text-align: right;\n",
       "    }\n",
       "</style>\n",
       "<table border=\"1\" class=\"dataframe\">\n",
       "  <thead>\n",
       "    <tr style=\"text-align: right;\">\n",
       "      <th></th>\n",
       "      <th>text</th>\n",
       "      <th>pos</th>\n",
       "    </tr>\n",
       "  </thead>\n",
       "  <tbody>\n",
       "    <tr>\n",
       "      <td>0</td>\n",
       "      <td>bu ürünü bu siteden yaklaşık 1 yıl önce aldım....</td>\n",
       "      <td>0</td>\n",
       "    </tr>\n",
       "    <tr>\n",
       "      <td>1</td>\n",
       "      <td>genel olarak güzel bir ürün fakat bu ankastre ...</td>\n",
       "      <td>0</td>\n",
       "    </tr>\n",
       "    <tr>\n",
       "      <td>2</td>\n",
       "      <td>arkadaslar yorumlarınızı gördüm,bende hem uygu...</td>\n",
       "      <td>0</td>\n",
       "    </tr>\n",
       "    <tr>\n",
       "      <td>3</td>\n",
       "      <td>ürün elimize 1 günde ulaştı bu gerçekten güzel...</td>\n",
       "      <td>0</td>\n",
       "    </tr>\n",
       "    <tr>\n",
       "      <td>4</td>\n",
       "      <td>ben araştırdım piyasada bu fiyata üç lü ankast...</td>\n",
       "      <td>0</td>\n",
       "    </tr>\n",
       "  </tbody>\n",
       "</table>\n",
       "</div>"
      ],
      "text/plain": [
       "                                                text  pos\n",
       "0  bu ürünü bu siteden yaklaşık 1 yıl önce aldım....    0\n",
       "1  genel olarak güzel bir ürün fakat bu ankastre ...    0\n",
       "2  arkadaslar yorumlarınızı gördüm,bende hem uygu...    0\n",
       "3  ürün elimize 1 günde ulaştı bu gerçekten güzel...    0\n",
       "4  ben araştırdım piyasada bu fiyata üç lü ankast...    0"
      ]
     },
     "execution_count": 17,
     "metadata": {},
     "output_type": "execute_result"
    }
   ],
   "source": [
    "kitchen_neg = (reviews_path/'kitchen_negative').open(encoding='utf-8').readlines()\n",
    "kitchen_neg_df = pd.DataFrame({'text':kitchen_neg})\n",
    "kitchen_neg_df['pos'] = 0\n",
    "kitchen_neg_df.head()"
   ]
  },
  {
   "cell_type": "code",
   "execution_count": 18,
   "metadata": {},
   "outputs": [],
   "source": [
    "# combine all the dataframes\n",
    "df = pd.concat([movie_pos_df, movie_neg_df, books_pos_df, \n",
    "                books_neg_df, dvd_pos_df, dvd_neg_df, \n",
    "                elc_pos_df, elc_neg_df, \n",
    "                kitchen_pos_df, kitchen_neg_df], sort=False)"
   ]
  },
  {
   "cell_type": "code",
   "execution_count": 55,
   "metadata": {},
   "outputs": [],
   "source": [
    "# create and save product reviews databunch\n",
    "data_lm = (TextList.from_df(df, reviews_path, cols='text', processor=SPProcessor.load(dest))\n",
    "    .split_by_rand_pct(0.1, seed=42)\n",
    "    .label_for_lm()           \n",
    "    .databunch(bs=bs, num_workers=1))\n",
    "\n",
    "data_lm.save(f'{lang}_clas_databunch')"
   ]
  },
  {
   "cell_type": "code",
   "execution_count": 19,
   "metadata": {},
   "outputs": [],
   "source": [
    "# load the databunch\n",
    "bs = 32\n",
    "data_lm = load_data(reviews_path, f'{lang}_clas_databunch', bs=bs)"
   ]
  },
  {
   "cell_type": "code",
   "execution_count": 20,
   "metadata": {},
   "outputs": [
    {
     "data": {
      "text/html": [
       "<table border=\"1\" class=\"dataframe\">\n",
       "  <thead>\n",
       "    <tr style=\"text-align: right;\">\n",
       "      <th>idx</th>\n",
       "      <th>text</th>\n",
       "    </tr>\n",
       "  </thead>\n",
       "  <tbody>\n",
       "    <tr>\n",
       "      <td>0</td>\n",
       "      <td>sa ▁bile ▁sinema ▁olgusu nun ▁en ▁üst ▁noktalar in dan . . ▁xxbos ▁gerçekten ▁tarihi ▁sava s ▁filmleri ▁ara si nda ▁tar tis ma siz ▁en ▁iyi si ▁ , ▁12 ▁ yi l ▁boyunca ▁ac aba ▁ikincisi ▁çek ir imi ▁diye ▁bekledi gi m ▁bir ▁film ▁ , bel ki ▁william ▁wallace ▁baba sinin ▁ölümünden ▁sonra ▁amca si ▁yani na ▁al mis ti ▁onu ▁ ye tis tir mis</td>\n",
       "    </tr>\n",
       "    <tr>\n",
       "      <td>1</td>\n",
       "      <td>▁olabilir di ▁xxrep ▁4 ▁ . ▁xxbos ▁ben ce ▁süper ▁bir ▁film ▁harika ▁gidil mesi ▁gereken ▁bi ▁film ▁biz lere de ▁hak ▁veri cek siniz ▁hay ir li ▁seyir ler . . . ▁xxbos ▁film ▁tek ▁kelime yle ▁mükemmel di ▁xxbos ▁bilimkurgu ▁sever lerin ▁sev e ce gi ▁bi ▁il m ▁ben den ▁10 ▁puan ▁al di ▁ben ce ▁çok ▁ hos . ▁xxbos ▁as li nda ▁ 71 ▁yap</td>\n",
       "    </tr>\n",
       "    <tr>\n",
       "      <td>2</td>\n",
       "      <td>▁kap ildi m ▁birden ▁bir e ▁yani ▁söyle ye ce gi m ▁tek ▁ sey ▁çok ▁ sans li ▁oldu gum dur . ▁xxbos ▁en ▁iyi ler ▁liste min ▁1 ▁numara si . . . tom ▁han ks ▁ e ▁bir ▁kez ▁daha ▁ sak pa ▁ çi kar ti yorum . . .( erkek ▁adam i ▁ yürek ten ▁yakalayan ▁bir ▁film ...) . ▁xxbos ▁filmde ▁beni ▁en ▁çok</td>\n",
       "    </tr>\n",
       "    <tr>\n",
       "      <td>3</td>\n",
       "      <td>dik kat li ▁bak mi yorsunuz ▁xxrep ▁6 ▁ . ▁xxbos ▁ço o ok ▁en tere san ▁bi ▁film ▁ak li niz ▁da ▁kalacak ▁bi ▁sahne ▁yok ▁belki ▁ama ▁ sik il madan ▁sonunu ▁bek li ye ce gi niz ▁bi ▁film . . ▁xxbos ▁çok ▁güzel ▁bir ▁fil im . ▁kurgusu ▁mükemmel . ▁mutlaka ▁izle yi n ▁xxrep ▁4 ▁ . ▁xxbos ▁film ▁de dikleri ▁ sey ▁bu ▁olsa</td>\n",
       "    </tr>\n",
       "    <tr>\n",
       "      <td>4</td>\n",
       "      <td>. ▁xxbos ▁ben ▁çok ▁be gen dim ▁ama ▁baz i ▁saçma lik lar ▁da ▁yok ▁de gil di . ne yse , key if ▁al dim , ta v si ye ▁eder im . ▁ . ▁xxbos ▁b nce ▁izlenmesi ▁gereken ▁filmlerden ▁biri ▁ . . william ▁ hur t ▁ in ▁performans ini ▁da ▁etkileyici ▁ . . müzik leriyle ▁ve ▁güzel ▁sonu yla ▁izlenmesi ▁gereken ▁bir ▁film ▁olarak</td>\n",
       "    </tr>\n",
       "  </tbody>\n",
       "</table>"
      ],
      "text/plain": [
       "<IPython.core.display.HTML object>"
      ]
     },
     "metadata": {},
     "output_type": "display_data"
    }
   ],
   "source": [
    "# show tokenized data\n",
    "data_lm.show_batch()"
   ]
  },
  {
   "cell_type": "code",
   "execution_count": 10,
   "metadata": {},
   "outputs": [],
   "source": [
    "# create a learner using the language model we trained\n",
    "learn_lm = language_model_learner(data_lm, AWD_LSTM, pretrained_fnames=lm_fns, drop_mult=1.0, wd=0.1)"
   ]
  },
  {
   "cell_type": "code",
   "execution_count": 11,
   "metadata": {},
   "outputs": [
    {
     "data": {
      "text/html": [],
      "text/plain": [
       "<IPython.core.display.HTML object>"
      ]
     },
     "metadata": {},
     "output_type": "display_data"
    },
    {
     "name": "stdout",
     "output_type": "stream",
     "text": [
      "LR Finder is complete, type {learner_name}.recorder.plot() to see the graph.\n"
     ]
    }
   ],
   "source": [
    "learn_lm.lr_find()"
   ]
  },
  {
   "cell_type": "code",
   "execution_count": 12,
   "metadata": {},
   "outputs": [
    {
     "data": {
      "image/png": "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\n",
      "text/plain": [
       "<Figure size 432x288 with 1 Axes>"
      ]
     },
     "metadata": {},
     "output_type": "display_data"
    }
   ],
   "source": [
    "learn_lm.recorder.plot()"
   ]
  },
  {
   "cell_type": "code",
   "execution_count": 15,
   "metadata": {},
   "outputs": [],
   "source": [
    "lr = 1e-2\n",
    "lr *= bs/48"
   ]
  },
  {
   "cell_type": "markdown",
   "metadata": {},
   "source": [
    "### Fine tuning of the language model"
   ]
  },
  {
   "cell_type": "code",
   "execution_count": 16,
   "metadata": {},
   "outputs": [
    {
     "data": {
      "text/html": [
       "<table border=\"1\" class=\"dataframe\">\n",
       "  <thead>\n",
       "    <tr style=\"text-align: left;\">\n",
       "      <th>epoch</th>\n",
       "      <th>train_loss</th>\n",
       "      <th>valid_loss</th>\n",
       "      <th>accuracy</th>\n",
       "      <th>time</th>\n",
       "    </tr>\n",
       "  </thead>\n",
       "  <tbody>\n",
       "    <tr>\n",
       "      <td>0</td>\n",
       "      <td>5.375234</td>\n",
       "      <td>5.065463</td>\n",
       "      <td>0.244337</td>\n",
       "      <td>01:51</td>\n",
       "    </tr>\n",
       "  </tbody>\n",
       "</table>"
      ],
      "text/plain": [
       "<IPython.core.display.HTML object>"
      ]
     },
     "metadata": {},
     "output_type": "display_data"
    }
   ],
   "source": [
    "learn_lm.fit_one_cycle(1, lr*10, moms=(0.8,0.7))"
   ]
  },
  {
   "cell_type": "code",
   "execution_count": 17,
   "metadata": {},
   "outputs": [
    {
     "data": {
      "text/html": [
       "<table border=\"1\" class=\"dataframe\">\n",
       "  <thead>\n",
       "    <tr style=\"text-align: left;\">\n",
       "      <th>epoch</th>\n",
       "      <th>train_loss</th>\n",
       "      <th>valid_loss</th>\n",
       "      <th>accuracy</th>\n",
       "      <th>time</th>\n",
       "    </tr>\n",
       "  </thead>\n",
       "  <tbody>\n",
       "    <tr>\n",
       "      <td>0</td>\n",
       "      <td>5.002340</td>\n",
       "      <td>4.916677</td>\n",
       "      <td>0.251926</td>\n",
       "      <td>02:12</td>\n",
       "    </tr>\n",
       "    <tr>\n",
       "      <td>1</td>\n",
       "      <td>4.853622</td>\n",
       "      <td>4.738298</td>\n",
       "      <td>0.271314</td>\n",
       "      <td>02:12</td>\n",
       "    </tr>\n",
       "    <tr>\n",
       "      <td>2</td>\n",
       "      <td>4.598279</td>\n",
       "      <td>4.518870</td>\n",
       "      <td>0.289031</td>\n",
       "      <td>02:12</td>\n",
       "    </tr>\n",
       "    <tr>\n",
       "      <td>3</td>\n",
       "      <td>4.198132</td>\n",
       "      <td>4.243555</td>\n",
       "      <td>0.314298</td>\n",
       "      <td>02:11</td>\n",
       "    </tr>\n",
       "    <tr>\n",
       "      <td>4</td>\n",
       "      <td>3.763883</td>\n",
       "      <td>4.175412</td>\n",
       "      <td>0.323074</td>\n",
       "      <td>02:11</td>\n",
       "    </tr>\n",
       "  </tbody>\n",
       "</table>"
      ],
      "text/plain": [
       "<IPython.core.display.HTML object>"
      ]
     },
     "metadata": {},
     "output_type": "display_data"
    }
   ],
   "source": [
    "learn_lm.unfreeze()\n",
    "learn_lm.fit_one_cycle(5, slice(lr/10,lr*10), moms=(0.8,0.7))"
   ]
  },
  {
   "cell_type": "code",
   "execution_count": 19,
   "metadata": {},
   "outputs": [],
   "source": [
    "# save the model itself and the encoder\n",
    "\n",
    "learn_lm.save(f'{lang}fine_tuned')\n",
    "learn_lm.save_encoder(f'{lang}fine_tuned_enc')"
   ]
  },
  {
   "cell_type": "markdown",
   "metadata": {},
   "source": [
    "### Building the sentiment classifier"
   ]
  },
  {
   "cell_type": "code",
   "execution_count": 31,
   "metadata": {},
   "outputs": [],
   "source": [
    "data_clas = (TextList.from_df(df, reviews_path, cols='text', processor=SPProcessor.load(dest))\n",
    "    .split_by_rand_pct(0.1, seed=22)\n",
    "    .label_from_df(cols='pos')\n",
    "    .databunch(bs=bs, num_workers=1))"
   ]
  },
  {
   "cell_type": "code",
   "execution_count": 36,
   "metadata": {},
   "outputs": [],
   "source": [
    "# use the encoder that is saved before for the head of the neural network\n",
    "\n",
    "learn_c = text_classifier_learner(data_clas, AWD_LSTM, drop_mult=0.5, pretrained=False, wd=0.1).to_fp16()\n",
    "learn_c.load_encoder(f'{lang}fine_tuned_enc')\n",
    "learn_c.freeze()"
   ]
  },
  {
   "cell_type": "code",
   "execution_count": 44,
   "metadata": {},
   "outputs": [
    {
     "data": {
      "text/html": [],
      "text/plain": [
       "<IPython.core.display.HTML object>"
      ]
     },
     "metadata": {},
     "output_type": "display_data"
    },
    {
     "name": "stdout",
     "output_type": "stream",
     "text": [
      "LR Finder is complete, type {learner_name}.recorder.plot() to see the graph.\n"
     ]
    }
   ],
   "source": [
    "learn_c.lr_find()"
   ]
  },
  {
   "cell_type": "code",
   "execution_count": 45,
   "metadata": {},
   "outputs": [
    {
     "data": {
      "image/png": "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\n",
      "text/plain": [
       "<Figure size 432x288 with 1 Axes>"
      ]
     },
     "metadata": {},
     "output_type": "display_data"
    }
   ],
   "source": [
    "learn_c.recorder.plot()"
   ]
  },
  {
   "cell_type": "code",
   "execution_count": 33,
   "metadata": {},
   "outputs": [],
   "source": [
    "lr=1e-2\n",
    "lr *= bs/48"
   ]
  },
  {
   "cell_type": "code",
   "execution_count": 46,
   "metadata": {},
   "outputs": [
    {
     "data": {
      "text/html": [
       "<table border=\"1\" class=\"dataframe\">\n",
       "  <thead>\n",
       "    <tr style=\"text-align: left;\">\n",
       "      <th>epoch</th>\n",
       "      <th>train_loss</th>\n",
       "      <th>valid_loss</th>\n",
       "      <th>accuracy</th>\n",
       "      <th>time</th>\n",
       "    </tr>\n",
       "  </thead>\n",
       "  <tbody>\n",
       "    <tr>\n",
       "      <td>0</td>\n",
       "      <td>0.453912</td>\n",
       "      <td>0.378239</td>\n",
       "      <td>0.835178</td>\n",
       "      <td>00:50</td>\n",
       "    </tr>\n",
       "    <tr>\n",
       "      <td>1</td>\n",
       "      <td>0.412791</td>\n",
       "      <td>0.360539</td>\n",
       "      <td>0.837638</td>\n",
       "      <td>00:55</td>\n",
       "    </tr>\n",
       "  </tbody>\n",
       "</table>"
      ],
      "text/plain": [
       "<IPython.core.display.HTML object>"
      ]
     },
     "metadata": {},
     "output_type": "display_data"
    }
   ],
   "source": [
    "learn_c.fit_one_cycle(2, lr, moms=(0.8,0.7))"
   ]
  },
  {
   "cell_type": "code",
   "execution_count": 47,
   "metadata": {},
   "outputs": [
    {
     "data": {
      "text/html": [
       "<table border=\"1\" class=\"dataframe\">\n",
       "  <thead>\n",
       "    <tr style=\"text-align: left;\">\n",
       "      <th>epoch</th>\n",
       "      <th>train_loss</th>\n",
       "      <th>valid_loss</th>\n",
       "      <th>accuracy</th>\n",
       "      <th>time</th>\n",
       "    </tr>\n",
       "  </thead>\n",
       "  <tbody>\n",
       "    <tr>\n",
       "      <td>0</td>\n",
       "      <td>0.425550</td>\n",
       "      <td>0.366491</td>\n",
       "      <td>0.840098</td>\n",
       "      <td>00:47</td>\n",
       "    </tr>\n",
       "    <tr>\n",
       "      <td>1</td>\n",
       "      <td>0.415942</td>\n",
       "      <td>0.353088</td>\n",
       "      <td>0.842558</td>\n",
       "      <td>00:49</td>\n",
       "    </tr>\n",
       "  </tbody>\n",
       "</table>"
      ],
      "text/plain": [
       "<IPython.core.display.HTML object>"
      ]
     },
     "metadata": {},
     "output_type": "display_data"
    }
   ],
   "source": [
    "learn_c.fit_one_cycle(2, lr, moms=(0.8,0.7))"
   ]
  },
  {
   "cell_type": "code",
   "execution_count": 48,
   "metadata": {},
   "outputs": [
    {
     "data": {
      "text/plain": [
       "PosixPath('Reviews/models/tr_sent_clf_stg1.pth')"
      ]
     },
     "execution_count": 48,
     "metadata": {},
     "output_type": "execute_result"
    }
   ],
   "source": [
    "learn_c.save(\"tr_sent_clf_stg1\", return_path=True)"
   ]
  },
  {
   "cell_type": "code",
   "execution_count": 49,
   "metadata": {},
   "outputs": [
    {
     "data": {
      "text/html": [
       "<table border=\"1\" class=\"dataframe\">\n",
       "  <thead>\n",
       "    <tr style=\"text-align: left;\">\n",
       "      <th>epoch</th>\n",
       "      <th>train_loss</th>\n",
       "      <th>valid_loss</th>\n",
       "      <th>accuracy</th>\n",
       "      <th>time</th>\n",
       "    </tr>\n",
       "  </thead>\n",
       "  <tbody>\n",
       "    <tr>\n",
       "      <td>0</td>\n",
       "      <td>0.403657</td>\n",
       "      <td>0.336215</td>\n",
       "      <td>0.851784</td>\n",
       "      <td>01:05</td>\n",
       "    </tr>\n",
       "    <tr>\n",
       "      <td>1</td>\n",
       "      <td>0.332010</td>\n",
       "      <td>0.308997</td>\n",
       "      <td>0.874539</td>\n",
       "      <td>01:14</td>\n",
       "    </tr>\n",
       "  </tbody>\n",
       "</table>"
      ],
      "text/plain": [
       "<IPython.core.display.HTML object>"
      ]
     },
     "metadata": {},
     "output_type": "display_data"
    }
   ],
   "source": [
    "learn_c.freeze_to(-2)\n",
    "learn_c.fit_one_cycle(2, slice(lr/(2.6**4),lr), moms=(0.8,0.7))"
   ]
  },
  {
   "cell_type": "code",
   "execution_count": 50,
   "metadata": {},
   "outputs": [
    {
     "data": {
      "text/html": [
       "<table border=\"1\" class=\"dataframe\">\n",
       "  <thead>\n",
       "    <tr style=\"text-align: left;\">\n",
       "      <th>epoch</th>\n",
       "      <th>train_loss</th>\n",
       "      <th>valid_loss</th>\n",
       "      <th>accuracy</th>\n",
       "      <th>time</th>\n",
       "    </tr>\n",
       "  </thead>\n",
       "  <tbody>\n",
       "    <tr>\n",
       "      <td>0</td>\n",
       "      <td>0.306920</td>\n",
       "      <td>0.296918</td>\n",
       "      <td>0.872079</td>\n",
       "      <td>02:12</td>\n",
       "    </tr>\n",
       "    <tr>\n",
       "      <td>1</td>\n",
       "      <td>0.252743</td>\n",
       "      <td>0.291526</td>\n",
       "      <td>0.881919</td>\n",
       "      <td>01:54</td>\n",
       "    </tr>\n",
       "  </tbody>\n",
       "</table>"
      ],
      "text/plain": [
       "<IPython.core.display.HTML object>"
      ]
     },
     "metadata": {},
     "output_type": "display_data"
    }
   ],
   "source": [
    "learn_c.freeze_to(-3)\n",
    "learn_c.fit_one_cycle(2, slice(lr/2/(2.6**4),lr/2), moms=(0.8,0.7))"
   ]
  },
  {
   "cell_type": "code",
   "execution_count": 51,
   "metadata": {},
   "outputs": [
    {
     "data": {
      "text/plain": [
       "PosixPath('Reviews/models/tr_sent_clf_stg2.pth')"
      ]
     },
     "execution_count": 51,
     "metadata": {},
     "output_type": "execute_result"
    }
   ],
   "source": [
    "learn_c.save(\"tr_sent_clf_stg2\", return_path=True)"
   ]
  },
  {
   "cell_type": "code",
   "execution_count": 37,
   "metadata": {},
   "outputs": [],
   "source": [
    "learn_c = learn_c.load(\"tr_sent_clf_stg2\")"
   ]
  },
  {
   "cell_type": "code",
   "execution_count": 38,
   "metadata": {},
   "outputs": [
    {
     "data": {
      "text/html": [
       "<table border=\"1\" class=\"dataframe\">\n",
       "  <thead>\n",
       "    <tr style=\"text-align: left;\">\n",
       "      <th>epoch</th>\n",
       "      <th>train_loss</th>\n",
       "      <th>valid_loss</th>\n",
       "      <th>accuracy</th>\n",
       "      <th>time</th>\n",
       "    </tr>\n",
       "  </thead>\n",
       "  <tbody>\n",
       "    <tr>\n",
       "      <td>0</td>\n",
       "      <td>0.213691</td>\n",
       "      <td>0.295296</td>\n",
       "      <td>0.886224</td>\n",
       "      <td>02:42</td>\n",
       "    </tr>\n",
       "    <tr>\n",
       "      <td>1</td>\n",
       "      <td>0.166827</td>\n",
       "      <td>0.303896</td>\n",
       "      <td>0.884994</td>\n",
       "      <td>02:43</td>\n",
       "    </tr>\n",
       "  </tbody>\n",
       "</table>"
      ],
      "text/plain": [
       "<IPython.core.display.HTML object>"
      ]
     },
     "metadata": {},
     "output_type": "display_data"
    }
   ],
   "source": [
    "# unfreeze and do one last training\n",
    "\n",
    "learn_c.unfreeze()\n",
    "learn_c.fit_one_cycle(2, slice(lr/(2.6**4),lr/10), moms=(0.8,0.7))"
   ]
  },
  {
   "cell_type": "markdown",
   "metadata": {},
   "source": [
    "I empirically tried different learning rates but couldn't improve the accuracy more."
   ]
  },
  {
   "cell_type": "markdown",
   "metadata": {},
   "source": [
    "<b>88.5%</b> Accuracy achieved for the Turkish sentiment classification task. The accuracy of the current state-of-the-art (Gezici, 2018), using only the movie reviews data, is around 75%."
   ]
  },
  {
   "cell_type": "code",
   "execution_count": 39,
   "metadata": {},
   "outputs": [
    {
     "data": {
      "text/plain": [
       "PosixPath('Reviews/models/tr_sent_clf_stg3.pth')"
      ]
     },
     "execution_count": 39,
     "metadata": {},
     "output_type": "execute_result"
    }
   ],
   "source": [
    "learn_c.save(\"tr_sent_clf_stg3\", return_path=True)"
   ]
  },
  {
   "cell_type": "markdown",
   "metadata": {},
   "source": [
    "### Predictions\n",
    "Category 1: Positive\n",
    "\n",
    "Category 0: Negative"
   ]
  },
  {
   "cell_type": "code",
   "execution_count": 54,
   "metadata": {},
   "outputs": [
    {
     "data": {
      "text/plain": [
       "(Category 1, tensor(1), tensor([0.0571, 0.9429]))"
      ]
     },
     "execution_count": 54,
     "metadata": {},
     "output_type": "execute_result"
    }
   ],
   "source": [
    "text = \"Tüm zamanların en iyi mafya filmi, çöküş,şiddet,sabır,romantizm,yükseliş temaları çok güzel kaynaştırılmış.\"\n",
    "# Translation: One of the greatest mafia movies ever, \n",
    "# the themes of downfall, violence, patience, romance, uprising are mixed very well\n",
    "learn_c.predict(text)"
   ]
  },
  {
   "cell_type": "code",
   "execution_count": 56,
   "metadata": {},
   "outputs": [
    {
     "data": {
      "text/plain": [
       "(Category 0, tensor(0), tensor([0.9786, 0.0214]))"
      ]
     },
     "execution_count": 56,
     "metadata": {},
     "output_type": "execute_result"
    }
   ],
   "source": [
    "text = \"Hayatımda izlediğim en saçma filmlerden bir tanesi.\"\n",
    "# Translation: One of the most ridiculous movies I've ever seen\n",
    "learn_c.predict(text)"
   ]
  },
  {
   "cell_type": "code",
   "execution_count": 57,
   "metadata": {},
   "outputs": [
    {
     "data": {
      "text/plain": [
       "(Category 0, tensor(0), tensor([0.9935, 0.0065]))"
      ]
     },
     "execution_count": 57,
     "metadata": {},
     "output_type": "execute_result"
    }
   ],
   "source": [
    "text = \"Ürün elime çok geç ulaştı kargo berbat, paketleme güzel.\"\n",
    "# Translation: The product was delivered too late, the shipment sucks, packaging is nice.\n",
    "learn_c.predict(text)"
   ]
  },
  {
   "cell_type": "code",
   "execution_count": 66,
   "metadata": {},
   "outputs": [
    {
     "data": {
      "text/plain": [
       "(Category 1, tensor(1), tensor([0.4995, 0.5005]))"
      ]
     },
     "execution_count": 66,
     "metadata": {},
     "output_type": "execute_result"
    }
   ],
   "source": [
    "text = \"4 tane aldım, sadece birinde biraz denge sorunu var \"\n",
    "# Translation: I purchased 4, only one of them had a balance problem\n",
    "learn_c.predict(text)"
   ]
  },
  {
   "cell_type": "code",
   "execution_count": 67,
   "metadata": {},
   "outputs": [
    {
     "data": {
      "text/plain": [
       "PosixPath('Reviews')"
      ]
     },
     "execution_count": 67,
     "metadata": {},
     "output_type": "execute_result"
    }
   ],
   "source": [
    "# export the language model for possible later use\n",
    "learn_c.export(\"tr_sent_clf_exported.pkl\")\n",
    "learn_c.path"
   ]
  },
  {
   "cell_type": "markdown",
   "metadata": {},
   "source": [
    "## Resources"
   ]
  },
  {
   "cell_type": "markdown",
   "metadata": {},
   "source": [
    "• SentencePiece Tokenizer: https://github.com/google/sentencepiece\n",
    "\n",
    "• Fast.ai SP Processor: https://docs.fast.ai/text.data.html#SPProcessor\n",
    "\n",
    "• Deep Learning: Transfer Learning for NLP\n",
    "https://www.fast.ai/2019/07/08/fastai-nlp/\n",
    "\n",
    "• ULMFit for non-English Languages (Jeremy Howard): https://www.youtube.com/watch?v=MDX_x6rKXAs&list=PLtmWHNX-gukKocXQOkQjuVxglSDYWsSh9&index=10&t=0s,
    "\n",
    "• Turkish Sentiment Analysis, SoTA: Gezici, G., & Yanıkoğlu, B. (2018). Sentiment analysis in Turkish. In Turkish Natural Language Processing (pp. 255-271). Springer, Cham.\n",
    "\n",
    "• Turkish Movie Reviews and Product Reviews Datasets:\n",
    "https://www.win.tue.nl/~mpechen/projects/smm/"
   ]
  },
  {
   "cell_type": "markdown",
   "metadata": {},
   "source": [
    "## End"
   ]
  }
 ],
 "metadata": {
  "kernelspec": {
   "display_name": "Python 3",
   "language": "python",
   "name": "python3"
  },
  "language_info": {
   "codemirror_mode": {
    "name": "ipython",
    "version": 3
   },
   "file_extension": ".py",
   "mimetype": "text/x-python",
   "name": "python",
   "nbconvert_exporter": "python",
   "pygments_lexer": "ipython3",
   "version": "3.6.1"
  }
 },
 "nbformat": 4,
 "nbformat_minor": 2
}
